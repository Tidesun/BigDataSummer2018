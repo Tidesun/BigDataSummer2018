{
 "cells": [
  {
   "cell_type": "code",
   "execution_count": null,
   "metadata": {},
   "outputs": [],
   "source": [
    "import sys\n",
    "import os\n",
    "from pyspark.sql import SparkSession\n",
    "from pyspark.sql.functions import col,avg,count\n",
    "from pyspark.ml.recommendation import ALS\n",
    "from pyspark.ml.evaluation import RegressionEvaluator\n",
    "spark=SparkSession.builder.getOrCreate()\n",
    "\n",
    "baseDir = os.path.join('input')\n",
    "\n",
    "ratingsFilename = os.path.join(baseDir,  'ratings.csv')\n",
    "moviesFilename = os.path.join(baseDir, 'movies.csv')"
   ]
  },
  {
   "cell_type": "code",
   "execution_count": 44,
   "metadata": {},
   "outputs": [],
   "source": [
    "rating = spark.read.option(\"header\", True).option(\"delimiter\", \",\").csv(ratingsFilename)\n",
    "movie = spark.read.option(\"header\", True).option(\"delimiter\", \",\").csv(moviesFilename)"
   ]
  },
  {
   "cell_type": "code",
   "execution_count": 118,
   "metadata": {},
   "outputs": [
    {
     "name": "stdout",
     "output_type": "stream",
     "text": [
      "Knockin' on Heaven's Door (1997) 1 5.0\n",
      "Friends with Kids (2011) 1 5.0\n",
      "Maelström (2000) 1 5.0\n",
      "The Earrings of Madame de... (1953) 2 5.0\n",
      "House Bunny, The (2008) 1 5.0\n",
      "Step Into Liquid (2002) 2 5.0\n",
      "Ben X (2007) 1 5.0\n",
      "Lamerica (1994) 1 5.0\n",
      "Little Lord Fauntleroy (1936) 1 5.0\n",
      "Caveman (1981) 1 5.0\n"
     ]
    }
   ],
   "source": [
    "rating=rating.select(rating.userId.cast('int'),rating.movieId.cast('int'),rating.rating.cast('float'))\n",
    "movie=movie.select(movie.movieId.cast('int'),movie.title)\n",
    "avgRating=rating.groupBy(col(\"movieId\")).agg(count(\"*\").alias(\"count\"),avg(\"rating\").alias(\"avgRating\"))\n",
    "sortedAvgRating=avgRating.sort(\"avgRating\", ascending=False)\n",
    "avgResult=sortedAvgRating.join(movie,sortedAvgRating.movieId==movie.movieId).drop(movie.movieId)\n",
    "Top10Result=avgResult.limit(10).select(\"title\",\"count\",\"avgRating\").collect()\n",
    "for row in Top10Result:\n",
    "    print (row[0],row[1],row[2])"
   ]
  },
  {
   "cell_type": "code",
   "execution_count": 119,
   "metadata": {},
   "outputs": [
    {
     "name": "stdout",
     "output_type": "stream",
     "text": [
      "Training size: 70104\n",
      "Validation size: 70104\n",
      "Test size: 70104\n"
     ]
    }
   ],
   "source": [
    "training,validation,test=rating.randomSplit([0.7,0.2,0.1])\n",
    "print (\"Training size:\",training.count())\n",
    "print (\"Validation size:\",training.count())\n",
    "print (\"Test size:\",training.count())"
   ]
  },
  {
   "cell_type": "code",
   "execution_count": 121,
   "metadata": {},
   "outputs": [
    {
     "name": "stdout",
     "output_type": "stream",
     "text": [
      "Model with rank 4 has rmse: 1.04203297968696\n",
      "Model with rank 8 has rmse: 1.1171400173214416\n",
      "Model with rank 12 has rmse: 1.190646055522231\n",
      "Best model has rank 4 with rmse 1.04203297968696\n"
     ]
    }
   ],
   "source": [
    "ranks = [4, 8, 12]\n",
    "error=[0,0,0]\n",
    "bestRank=-1\n",
    "minError=float('inf')\n",
    "err=0\n",
    "for paramRank in ranks:\n",
    "    alsEstimator=ALS(maxIter=5,\\\n",
    "                        regParam=0.01,\\\n",
    "                         rank=paramRank,\\\n",
    "                        userCol=\"userId\", itemCol=\"movieId\", ratingCol=\"rating\",\\\n",
    "                        coldStartStrategy=\"drop\")\n",
    "    alsTransformer=alsEstimator.fit(training)\n",
    "    predictions=alsTransformer.transform(validation)\n",
    "    evaluator = RegressionEvaluator().setMetricName(\"rmse\").setLabelCol(\"rating\").setPredictionCol(\"prediction\")\n",
    "    rmse=evaluator.evaluate(predictions)\n",
    "    error[err]=rmse\n",
    "    err+=1\n",
    "    if minError>rmse:\n",
    "        bestRank=paramRank\n",
    "        minError=rmse\n",
    "    print(\"Model with rank %s has rmse: %s\" % (paramRank,rmse))\n",
    "print (\"Best model has rank %s with rmse %s\" %(bestRank,minError))"
   ]
  },
  {
   "cell_type": "code",
   "execution_count": null,
   "metadata": {},
   "outputs": [],
   "source": [
    "alsEstimator=ALS(maxIter=5,\\\n",
    "                        regParam=0.01,\\\n",
    "                         rank=bestRank,\\\n",
    "                        userCol=\"userId\", itemCol=\"movieId\", ratingCol=\"rating\",\\\n",
    "                        coldStartStrategy=\"drop\")\n",
    "alsTransformer=alsEstimator.fit(training)\n",
    "predictions=alsTransformer.transform(test)\n",
    "evaluator = RegressionEvaluator().setMetricName(\"rmse\").setLabelCol(\"rating\").setPredictionCol(\"prediction\")\n",
    "rmse=evaluator.evaluate(predictions)"
   ]
  }
 ],
 "metadata": {
  "kernelspec": {
   "display_name": "Python 3",
   "language": "python",
   "name": "python3"
  },
  "language_info": {
   "codemirror_mode": {
    "name": "ipython",
    "version": 3
   },
   "file_extension": ".py",
   "mimetype": "text/x-python",
   "name": "python",
   "nbconvert_exporter": "python",
   "pygments_lexer": "ipython3",
   "version": "3.7.0"
  }
 },
 "nbformat": 4,
 "nbformat_minor": 2
}
