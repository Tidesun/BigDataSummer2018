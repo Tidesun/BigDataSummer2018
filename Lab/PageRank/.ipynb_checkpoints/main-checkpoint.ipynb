{
 "cells": [
  {
   "cell_type": "code",
   "execution_count": 90,
   "metadata": {},
   "outputs": [],
   "source": [
    "input=sc.textFile(\"input.txt\").map(lambda line:line.split(\" \")).filter(lambda x:x!=\"\").map(lambda wordlist:(wordlist[0],wordlist[1]))\n",
    "maxIteration=10\n",
    "def computeContrib(neighbors,rank):\n",
    "    numNeighbors=len(neighbors)\n",
    "    for neighbor in neighbors:\n",
    "        yield (neighbor,rank/numNeighbors)\n",
    "\n",
    "grouped=input.groupByKey()\n",
    "countsNeighbors=grouped.mapValues(lambda x:len(x))\n",
    "rank=input.map(lambda pair:(pair[0],1.0)).distinct()"
   ]
  },
  {
   "cell_type": "code",
   "execution_count": 91,
   "metadata": {},
   "outputs": [],
   "source": [
    "for iteration in range(int(maxIteration)):\n",
    "    groupedRank=grouped.join(rank)\n",
    "    #joined set will be(nodeid,(neighborlist,rank))\n",
    "    contrib=groupedRank.flatMap(lambda node:computeContrib(node[1][0],node[1][1]))\n",
    "    #computeContrib set will be (nodeid,contibutionRank)\n",
    "    rank=contrib.reduceByKey(lambda a,b:a+b).mapValues(lambda rank: rank * 0.85 + 0.15)\n",
    "rankDict=rank.collectAsMap()"
   ]
  },
  {
   "cell_type": "code",
   "execution_count": 92,
   "metadata": {},
   "outputs": [
    {
     "name": "stdout",
     "output_type": "stream",
     "text": [
      "[('1', 1.7380073041193354), ('2', 0.7539975652935547), ('3', 0.7539975652935547), ('4', 0.7539975652935547)]\n"
     ]
    }
   ],
   "source": [
    "Top20Nodes=rank.sortBy(lambda x:x[1],ascending=False).\n",
    "print(Top20Nodes.collect())"
   ]
  },
  {
   "cell_type": "code",
   "execution_count": 93,
   "metadata": {},
   "outputs": [
    {
     "name": "stdout",
     "output_type": "stream",
     "text": [
      "[('4', 1), ('1', 3), ('3', 1), ('2', 1)]\n"
     ]
    }
   ],
   "source": [
    "TopCountNeighbors=Top20Nodes.join(countsNeighbors).map(lambda pair:(pair[0],pair[1][1]))\n",
    "print(TopCountNeighbors.collect())"
   ]
  },
  {
   "cell_type": "code",
   "execution_count": 96,
   "metadata": {},
   "outputs": [
    {
     "name": "stdout",
     "output_type": "stream",
     "text": [
      "[('4', 1.7380073041193354), ('1', 0.7539975652935547), ('3', 1.7380073041193354), ('2', 1.7380073041193354)]\n"
     ]
    }
   ],
   "source": [
    "TopNeighbors=Top20Nodes.join(grouped).flatMapValues(lambda x:list(x[1])).mapValues(lambda a:rankDict[a]).reduceByKey(lambda a,b:a+b)\n",
    "TopNeighbors=TopNeighbors.join(TopCountNeighbors).mapValues(lambda x:x[0]/x[1])\n",
    "print(TopNeighbors.collect())"
   ]
  }
 ],
 "metadata": {
  "kernelspec": {
   "display_name": "Python 3",
   "language": "python",
   "name": "python3"
  },
  "language_info": {
   "codemirror_mode": {
    "name": "ipython",
    "version": 3
   },
   "file_extension": ".py",
   "mimetype": "text/x-python",
   "name": "python",
   "nbconvert_exporter": "python",
   "pygments_lexer": "ipython3",
   "version": "3.7.0"
  }
 },
 "nbformat": 4,
 "nbformat_minor": 2
}
