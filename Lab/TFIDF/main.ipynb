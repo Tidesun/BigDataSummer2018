{
 "cells": [
  {
   "cell_type": "code",
   "execution_count": 72,
   "metadata": {},
   "outputs": [],
   "source": [
    "from pyspark.ml.feature import HashingTF,IDF\n",
    "from pyspark.sql import SparkSession\n",
    "from ast import literal_eval\n",
    "spark=SparkSession.builder.getOrCreate()\n",
    "sc=spark.sparkContext\n",
    "data=sc.textFile(\"tokenizedData\").map(lambda r:literal_eval(str(r))).toDF([\"label\",\"words\"])"
   ]
  },
  {
   "cell_type": "code",
   "execution_count": 73,
   "metadata": {},
   "outputs": [],
   "source": [
    "hashingTF=HashingTF(inputCol=\"words\",outputCol=\"rawFeatures\",numFeatures=20)\n",
    "rawFeaturedData=hashingTF.transform(data)\n",
    "idf=IDF(inputCol=\"rawFeatures\",outputCol=\"features\")\n",
    "idfTransformer=idf.fit(rawFeaturedData)\n",
    "featuredData=idfTransformer.transform(rawFeaturedData).drop(\"rawFeatures\",\"words\")\n",
    "featuredData.write.json(\"featuredData.json\")"
   ]
  },
  {
   "cell_type": "code",
   "execution_count": null,
   "metadata": {},
   "outputs": [],
   "source": []
  },
  {
   "cell_type": "code",
   "execution_count": null,
   "metadata": {},
   "outputs": [],
   "source": []
  }
 ],
 "metadata": {
  "kernelspec": {
   "display_name": "Python 3",
   "language": "python",
   "name": "python3"
  },
  "language_info": {
   "codemirror_mode": {
    "name": "ipython",
    "version": 3
   },
   "file_extension": ".py",
   "mimetype": "text/x-python",
   "name": "python",
   "nbconvert_exporter": "python",
   "pygments_lexer": "ipython3",
   "version": "3.7.0"
  }
 },
 "nbformat": 4,
 "nbformat_minor": 2
}
