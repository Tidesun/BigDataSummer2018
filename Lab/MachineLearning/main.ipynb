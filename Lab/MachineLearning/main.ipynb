{
 "cells": [
  {
   "cell_type": "code",
   "execution_count": 45,
   "metadata": {},
   "outputs": [],
   "source": [
    "import time\n",
    "from pyspark.sql import SparkSession\n",
    "from pyspark.sql.types import LongType, StructField, StructType\n",
    "from pyspark.ml.linalg import VectorUDT\n",
    "from pyspark.ml.classification import DecisionTreeClassifier,NaiveBayes,RandomForestClassifier\n",
    "from pyspark.ml.evaluation import MulticlassClassificationEvaluator\n",
    "schema = StructType((\n",
    "  StructField(\"label\", LongType(), True),\n",
    "  StructField(\"features\", VectorUDT(), True)))\n",
    "featuredData=spark.read.schema(schema).json(\"featuredData\")\n",
    "training,test=featuredData.randomSplit([0.8,0.2])"
   ]
  },
  {
   "cell_type": "code",
   "execution_count": 46,
   "metadata": {},
   "outputs": [],
   "source": [
    "startTime=time.time()\n",
    "DTEstimator=DecisionTreeClassifier(labelCol=\"label\",\\\n",
    "                                   featuresCol=\"features\",\\\n",
    "                                   impurity='gini', \\\n",
    "                                   maxDepth=5, \\\n",
    "                                   maxBins=5)\n",
    "DTTransformer=DTEstimator.fit(training)\n",
    "TrainPredictions=DTTransformer.transform(training)\n",
    "TestPredictions=DTTransformer.transform(test)"
   ]
  },
  {
   "cell_type": "code",
   "execution_count": 47,
   "metadata": {},
   "outputs": [
    {
     "name": "stdout",
     "output_type": "stream",
     "text": [
      "Decision Tree: \n",
      "Training accracy: 0.8934010152284264 \n",
      "Test accuacy: 0.6949152542372882 \n",
      "Running time: 1.0747079849243164 seconds\n"
     ]
    }
   ],
   "source": [
    "DTEvaluator=MulticlassClassificationEvaluator(labelCol=\"label\",\\\n",
    "                                              predictionCol=\"prediction\",\\\n",
    "                                              metricName=\"accuracy\")\n",
    "\n",
    "TrainAccuracy=DTEvaluator.evaluate(TrainPredictions)\n",
    "TestAccuracy=DTEvaluator.evaluate(TestPredictions)\n",
    "ExecTime=time.time()-startTime\n",
    "print(\"Decision Tree: \\nTraining accracy: %s \\nTest accuacy: %s \\nRunning time: %s seconds\" % (TrainAccuracy,TestAccuracy,ExecTime))"
   ]
  },
  {
   "cell_type": "code",
   "execution_count": 53,
   "metadata": {},
   "outputs": [],
   "source": [
    "startTime=time.time()\n",
    "NBEstimator=NaiveBayes(smoothing=1.0,\\\n",
    "                       modelType=\"multinomial\")\n",
    "NBTransformer=NBEstimator.fit(training)\n",
    "TrainPredictions=NBTransformer.transform(training)\n",
    "TestPredictions=NBTransformer.transform(test)"
   ]
  },
  {
   "cell_type": "code",
   "execution_count": 54,
   "metadata": {},
   "outputs": [
    {
     "name": "stdout",
     "output_type": "stream",
     "text": [
      "Naive Bayes: \n",
      "Training accracy: 0.7817258883248731 \n",
      "Test accuacy: 0.6949152542372882 \n",
      "Running time: 0.6066391468048096 seconds\n"
     ]
    }
   ],
   "source": [
    "NBEvaluator=MulticlassClassificationEvaluator(labelCol=\"label\",\\\n",
    "                                              predictionCol=\"prediction\",\\\n",
    "                                              metricName=\"accuracy\")\n",
    "\n",
    "TrainAccuracy=NBEvaluator.evaluate(TrainPredictions)\n",
    "TestAccuracy=NBEvaluator.evaluate(TestPredictions)\n",
    "ExecTime=time.time()-startTime\n",
    "print(\"Naive Bayes: \\nTraining accracy: %s \\nTest accuacy: %s \\nRunning time: %s seconds\" % (TrainAccuracy,TestAccuracy,ExecTime))"
   ]
  },
  {
   "cell_type": "code",
   "execution_count": 55,
   "metadata": {},
   "outputs": [],
   "source": [
    "startTime=time.time()\n",
    "RFEstimator=RandomForestClassifier(numTrees=50,\\\n",
    "                                   featureSubsetStrategy=\"auto\", \\\n",
    "                                   impurity='gini', \\\n",
    "                                   maxDepth=25, \\\n",
    "                                   maxBins=5)\n",
    "RFTransformer=RFEstimator.fit(training)\n",
    "TrainPredictions=RFTransformer.transform(training)\n",
    "TestPredictions=RFTransformer.transform(test)"
   ]
  },
  {
   "cell_type": "code",
   "execution_count": 56,
   "metadata": {},
   "outputs": [
    {
     "name": "stdout",
     "output_type": "stream",
     "text": [
      "Random Forest: \n",
      "Training accracy: 1.0 \n",
      "Test accuacy: 0.7627118644067796 \n",
      "Running time: 1.5300071239471436 seconds\n"
     ]
    }
   ],
   "source": [
    "RFEvaluator=MulticlassClassificationEvaluator(labelCol=\"label\",\\\n",
    "                                              predictionCol=\"prediction\",\\\n",
    "                                              metricName=\"accuracy\")\n",
    "\n",
    "TrainAccuracy=RFEvaluator.evaluate(TrainPredictions)\n",
    "TestAccuracy=RFEvaluator.evaluate(TestPredictions)\n",
    "ExecTime=time.time()-startTime\n",
    "print(\"Random Forest: \\nTraining accracy: %s \\nTest accuacy: %s \\nRunning time: %s seconds\" % (TrainAccuracy,TestAccuracy,ExecTime))"
   ]
  }
 ],
 "metadata": {
  "kernelspec": {
   "display_name": "Python 3",
   "language": "python",
   "name": "python3"
  },
  "language_info": {
   "codemirror_mode": {
    "name": "ipython",
    "version": 3
   },
   "file_extension": ".py",
   "mimetype": "text/x-python",
   "name": "python",
   "nbconvert_exporter": "python",
   "pygments_lexer": "ipython3",
   "version": "3.7.0"
  }
 },
 "nbformat": 4,
 "nbformat_minor": 2
}
