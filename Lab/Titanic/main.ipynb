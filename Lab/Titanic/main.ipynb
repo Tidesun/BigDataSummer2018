{
 "cells": [
  {
   "cell_type": "code",
   "execution_count": 1,
   "metadata": {},
   "outputs": [],
   "source": [
    "import time\n",
    "from pyspark.ml import Pipeline\n",
    "from pyspark.ml.classification import RandomForestClassifier\n",
    "from pyspark.ml.feature import FeatureHasher\n",
    "from pyspark.ml.evaluation import BinaryClassificationEvaluator\n",
    "inputFile='input.csv'"
   ]
  },
  {
   "cell_type": "code",
   "execution_count": 2,
   "metadata": {},
   "outputs": [],
   "source": [
    "df= spark.read.option(\"header\", True).option(\"delimiter\", \",\").csv(inputFile)"
   ]
  },
  {
   "cell_type": "code",
   "execution_count": 3,
   "metadata": {},
   "outputs": [],
   "source": [
    "df=df.withColumn('Sex',df.Sex.cast('int')).withColumn('Age',df.Age.cast('int')).withColumn('Survived',df.Survived.cast('int'))"
   ]
  },
  {
   "cell_type": "code",
   "execution_count": 4,
   "metadata": {},
   "outputs": [],
   "source": [
    "training,test=df.randomSplit([0.7,0.3])"
   ]
  },
  {
   "cell_type": "code",
   "execution_count": 5,
   "metadata": {},
   "outputs": [],
   "source": [
    "starttime=time.time()\n",
    "hasher=FeatureHasher(inputCols=['Pclass','Sex','Age','SibSp','Parch','Ticket','Fare','Cabin','Embarked'],\\\n",
    "                     outputCol='features')\n",
    "RF=RandomForestClassifier(labelCol='Survived')\n",
    "pipeline=Pipeline(stages=[hasher,RF])\n",
    "ppmodel=pipeline.fit(training)"
   ]
  },
  {
   "cell_type": "code",
   "execution_count": 6,
   "metadata": {},
   "outputs": [],
   "source": [
    "predictions=ppmodel.transform(test)\n",
    "AUC=BinaryClassificationEvaluator(labelCol='Survived').evaluate(predictions)\n",
    "endtime=time.time()-starttime"
   ]
  },
  {
   "cell_type": "code",
   "execution_count": 7,
   "metadata": {},
   "outputs": [
    {
     "name": "stdout",
     "output_type": "stream",
     "text": [
      "0.5616750471401634\n",
      "218.32181096076965  seconds\n"
     ]
    }
   ],
   "source": [
    "print(AUC)\n",
    "print(endtime,' seconds')"
   ]
  },
  {
   "cell_type": "code",
   "execution_count": null,
   "metadata": {},
   "outputs": [],
   "source": []
  }
 ],
 "metadata": {
  "kernelspec": {
   "display_name": "Python 3",
   "language": "python",
   "name": "python3"
  },
  "language_info": {
   "codemirror_mode": {
    "name": "ipython",
    "version": 3
   },
   "file_extension": ".py",
   "mimetype": "text/x-python",
   "name": "python",
   "nbconvert_exporter": "python",
   "pygments_lexer": "ipython3",
   "version": "3.7.0"
  }
 },
 "nbformat": 4,
 "nbformat_minor": 2
}
