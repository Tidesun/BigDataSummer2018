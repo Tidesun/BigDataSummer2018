{
 "cells": [
  {
   "cell_type": "code",
   "execution_count": 45,
   "metadata": {},
   "outputs": [],
   "source": [
    "rdd=sc.textFile(\"input.txt\").map(lambda line:line.split(\":\")).map(lambda lst:(lst[0],lst[1].split(\" \")))\n",
    "def mapper(pair):\n",
    "    for item in pair[1]:\n",
    "        a=min(pair[0],item)\n",
    "        b=max(pair[0],item)\n",
    "        yield ((a,b),pair[1]) "
   ]
  },
  {
   "cell_type": "code",
   "execution_count": 47,
   "metadata": {},
   "outputs": [
    {
     "name": "stdout",
     "output_type": "stream",
     "text": [
      "[(('A', 'B'), {'C', 'D'}), (('A', 'D'), {'B', 'C'}), (('B', 'D'), {'C', 'A', 'E'}), (('B', 'E'), {'C', 'D'}), (('D', 'E'), {'B', 'C'}), (('A', 'C'), {'B', 'D'}), (('B', 'C'), {'D', 'A', 'E'}), (('C', 'D'), {'B', 'A', 'E'}), (('C', 'E'), {'B', 'D'})]\n"
     ]
    }
   ],
   "source": [
    "flat=rdd.flatMap(mapper)\n",
    "commonFriend=flat.reduceByKey(lambda a,b:set(a)&set(b))\n",
    "print (commonFriend.collect())"
   ]
  },
  {
   "cell_type": "code",
   "execution_count": null,
   "metadata": {},
   "outputs": [],
   "source": []
  }
 ],
 "metadata": {
  "kernelspec": {
   "display_name": "Python 3",
   "language": "python",
   "name": "python3"
  },
  "language_info": {
   "codemirror_mode": {
    "name": "ipython",
    "version": 3
   },
   "file_extension": ".py",
   "mimetype": "text/x-python",
   "name": "python",
   "nbconvert_exporter": "python",
   "pygments_lexer": "ipython3",
   "version": "3.7.0"
  }
 },
 "nbformat": 4,
 "nbformat_minor": 2
}
