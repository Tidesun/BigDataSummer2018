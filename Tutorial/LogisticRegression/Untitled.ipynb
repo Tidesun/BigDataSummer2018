{
 "cells": [
  {
   "cell_type": "code",
   "execution_count": 6,
   "metadata": {},
   "outputs": [
    {
     "name": "stdout",
     "output_type": "stream",
     "text": [
      "+-----+--------------------+\n",
      "|label|            features|\n",
      "+-----+--------------------+\n",
      "|    2|(20,[0,1,2,4,5,7,...|\n",
      "|    2|(20,[0,1,2,4,5,6,...|\n",
      "|    2|(20,[0,1,2,3,4,5,...|\n",
      "|    2|(20,[0,1,2,3,4,5,...|\n",
      "|    2|(20,[0,1,2,5,8,9,...|\n",
      "|    1|(20,[0,1,2,4,5,7,...|\n",
      "|    1|(20,[0,1,2,3,4,5,...|\n",
      "|    1|(20,[0,2,3,4,5,6,...|\n",
      "|    1|(20,[0,2,3,4,5,7,...|\n",
      "|    1|(20,[0,2,3,4,5,6,...|\n",
      "|    1|(20,[0,2,3,4,5,8,...|\n",
      "|    1|(20,[0,2,3,4,5,6,...|\n",
      "|    1|(20,[2,3,4,5,7,8,...|\n",
      "|    1|(20,[0,2,4,5,6,7,...|\n",
      "|    1|(20,[0,1,2,3,4,5,...|\n",
      "|    1|(20,[0,1,2,3,4,5,...|\n",
      "|    1|(20,[0,1,2,3,4,5,...|\n",
      "|    1|(20,[0,1,2,3,4,5,...|\n",
      "|    1|(20,[0,1,2,3,4,5,...|\n",
      "|    1|(20,[0,1,2,3,4,5,...|\n",
      "+-----+--------------------+\n",
      "only showing top 20 rows\n",
      "\n"
     ]
    },
    {
     "data": {
      "text/plain": [
       "<pyspark.ml.classification.LogisticRegressionTrainingSummary at 0x1133a9e80>"
      ]
     },
     "execution_count": 6,
     "metadata": {},
     "output_type": "execute_result"
    }
   ],
   "source": [
    "from pyspark.sql import SparkSession,Row,functions\n",
    "from pyspark import SparkContext\n",
    "from ast import literal_eval\n",
    "from pyspark.ml.linalg import Vector,Vectors\n",
    "from pyspark.ml.evaluation import MulticlassClassificationEvaluator\n",
    "from pyspark.ml import Pipeline\n",
    "from pyspark.ml.feature import IndexToString, StringIndexer, VectorIndexer,HashingTF, Tokenizer,IDF\n",
    "from pyspark.ml.classification import LogisticRegression,LogisticRegressionModel,BinaryLogisticRegressionSummary, LogisticRegression\n",
    "from pyspark.ml.tuning import CrossValidator, ParamGridBuilder\n",
    "\n",
    "spark = SparkSession.builder.getOrCreate()\n",
    "cleanedData=spark.sparkContext.textFile(\"tokenizedData\").map(lambda r:literal_eval(str(r)))\n",
    "df=cleanedData.toDF([\"label\",\"words\"])\n",
    "hashingTF = HashingTF(inputCol=\"words\", outputCol=\"rawFeatures\", numFeatures=20)\n",
    "featuredData=hashingTF.transform(df)\n",
    "idf=IDF(inputCol=\"rawFeatures\",outputCol=\"features\")\n",
    "idfModel=idf.fit(featuredData)\n",
    "rescaledData=idfModel.transform(featuredData)\n",
    "rescaledData.select(\"label\",\"features\").show()\n",
    "inputData=rescaledData\n",
    "\n",
    "#index label and feature\n",
    "labelIndexer = StringIndexer().setInputCol(\"label\").setOutputCol(\"indexedLabel\").fit(inputData)\n",
    "featureIndexer = VectorIndexer().setInputCol(\"features\").setOutputCol(\"indexedFeatures\").fit(inputData)\n",
    "#split the inputData into trainingData and testData\n",
    "training, test = inputData.randomSplit([0.7,0.3])\n",
    "#lr will train the model\n",
    "lr = LogisticRegression(maxIter=10)\n",
    "labelConverter = IndexToString().setInputCol(\"prediction\").setOutputCol(\"predictedLabel\").setLabels(labelIndexer.labels)\n",
    "#lr pipeline set\n",
    "pipeline =  Pipeline().setStages([labelIndexer, featureIndexer])\n",
    "training=pipeline.fit(training).transform(training)\n",
    "\n",
    "#model trained\n",
    "paramGrid = ParamGridBuilder()\\\n",
    "            .addGrid(lr.regParam, [0.1, 0.01])\\\n",
    "            .addGrid(lr.elasticNetParam,[0.1,0.5,0.9])\\\n",
    "            .build()\n",
    "crossval=CrossValidator(estimator=lr,\\\n",
    "                          estimatorParamMaps=paramGrid,\\\n",
    "                          evaluator=MulticlassClassificationEvaluator(),\\\n",
    "                          numFolds=3)\n",
    "cvModel=crossval.fit(training)\n",
    "cvModel.bestModel.summary"
   ]
  },
  {
   "cell_type": "code",
   "execution_count": 7,
   "metadata": {},
   "outputs": [],
   "source": [
    "cvModel.save('cvModel')"
   ]
  },
  {
   "cell_type": "code",
   "execution_count": 9,
   "metadata": {},
   "outputs": [
    {
     "ename": "RuntimeError",
     "evalue": "No training summary available for this LogisticRegressionModel",
     "output_type": "error",
     "traceback": [
      "\u001b[0;31m---------------------------------------------------------------------------\u001b[0m",
      "\u001b[0;31mRuntimeError\u001b[0m                              Traceback (most recent call last)",
      "\u001b[0;32m<ipython-input-9-450da6b3500d>\u001b[0m in \u001b[0;36m<module>\u001b[0;34m()\u001b[0m\n\u001b[1;32m      1\u001b[0m \u001b[0;32mfrom\u001b[0m \u001b[0mpyspark\u001b[0m\u001b[0;34m.\u001b[0m\u001b[0mml\u001b[0m\u001b[0;34m.\u001b[0m\u001b[0mtuning\u001b[0m \u001b[0;32mimport\u001b[0m \u001b[0mCrossValidatorModel\u001b[0m\u001b[0;34m\u001b[0m\u001b[0m\n\u001b[1;32m      2\u001b[0m \u001b[0mbest\u001b[0m\u001b[0;34m=\u001b[0m\u001b[0mCrossValidatorModel\u001b[0m\u001b[0;34m.\u001b[0m\u001b[0mload\u001b[0m\u001b[0;34m(\u001b[0m\u001b[0;34m'cvModel'\u001b[0m\u001b[0;34m)\u001b[0m\u001b[0;34m.\u001b[0m\u001b[0mbestModel\u001b[0m\u001b[0;34m\u001b[0m\u001b[0m\n\u001b[0;32m----> 3\u001b[0;31m \u001b[0mbest\u001b[0m\u001b[0;34m.\u001b[0m\u001b[0msummary\u001b[0m\u001b[0;34m\u001b[0m\u001b[0m\n\u001b[0m",
      "\u001b[0;32m/usr/local/Cellar/apache-spark/2.3.1/libexec/python/pyspark/ml/classification.py\u001b[0m in \u001b[0;36msummary\u001b[0;34m(self)\u001b[0m\n\u001b[1;32m    537\u001b[0m         \u001b[0;32melse\u001b[0m\u001b[0;34m:\u001b[0m\u001b[0;34m\u001b[0m\u001b[0m\n\u001b[1;32m    538\u001b[0m             raise RuntimeError(\"No training summary available for this %s\" %\n\u001b[0;32m--> 539\u001b[0;31m                                self.__class__.__name__)\n\u001b[0m\u001b[1;32m    540\u001b[0m \u001b[0;34m\u001b[0m\u001b[0m\n\u001b[1;32m    541\u001b[0m     \u001b[0;34m@\u001b[0m\u001b[0mproperty\u001b[0m\u001b[0;34m\u001b[0m\u001b[0m\n",
      "\u001b[0;31mRuntimeError\u001b[0m: No training summary available for this LogisticRegressionModel"
     ]
    }
   ],
   "source": [
    "from pyspark.ml.tuning import CrossValidatorModel\n",
    "best=CrossValidatorModel.load('cvModel').bestModel\n",
    "best.summary"
   ]
  },
  {
   "cell_type": "code",
   "execution_count": null,
   "metadata": {},
   "outputs": [],
   "source": []
  }
 ],
 "metadata": {
  "kernelspec": {
   "display_name": "Python 3",
   "language": "python",
   "name": "python3"
  }
 },
 "nbformat": 4,
 "nbformat_minor": 2
}
